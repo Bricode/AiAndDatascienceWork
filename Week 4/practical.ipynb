{
 "cells": [
  {
   "cell_type": "markdown",
   "metadata": {},
   "source": [
    "Logistic Regression\n",
    "==================="
   ]
  },
  {
   "cell_type": "markdown",
   "metadata": {},
   "source": [
    "Logistic regression is a classification technique where the dependent variable $y$ is categorical (i.e. a discrete set of possible values rather than an infinite amount of numerical values like in linear regression). The binary logistic model is used to predict a binary (1 or 0) response based on one or more predictors (aka independent variables, aka features). In this practical, we will study how to implement logistic regression models with scikit-learn.\n",
    "\n",
    "Recall that logistic regression uses the sigmoid function to model the data. In a binary classification problem, any data point whose probability is determined to be larger than 0.5 (50%) by the model (i.e. sigmoid function) will be assigned the label 1, any data points whose probability is determined to be below 0.5 will be assigned the label 0.\n",
    "\n",
    "Logistic regression is about finding the optimal parameters $\\theta_0$ and $\\theta_1$ of the sigmoid function $\\large p(x)=g(x)= \\frac{1}{1 + e^{-(\\theta_0+\\theta_1 x)}}$ that better classifies the data. Different values of those parameters change the model (and therefore its predictions). Convince yourself that this is the case by changing the values of $\\theta_0$ and $\\theta_1$ in the code snippet below and observing their impact on the model:"
   ]
  },
  {
   "cell_type": "code",
   "execution_count": 15,
   "metadata": {},
   "outputs": [
    {
     "data": {
      "image/png": "[encoded data removed]",
      "text/plain": [
       "<Figure size 432x288 with 1 Axes>"
      ]
     },
     "metadata": {
      "needs_background": "light"
     },
     "output_type": "display_data"
    }
   ],
   "source": [
    "%matplotlib inline \n",
    "import math\n",
    "\n",
    "#Change these parameters and observe their impact on the sigmoid model\n",
    "theta0=-1\n",
    "theta1=-14\n",
    "\n",
    "def sigmoid(x,t0,t1):\n",
    "    a = []\n",
    "    for item in x:\n",
    "        a.append(1/(1+math.exp(-(t0+t1*item))))\n",
    "    return a\n",
    "\n",
    "import matplotlib.pyplot as plt\n",
    "import numpy as np\n",
    "\n",
    "x = np.arange(-10., 10., 0.2)\n",
    "sig = sigmoid(x,theta0,theta1)\n",
    "plt.plot(x,sig,linewidth=2)\n",
    "plt.xlim([-10,10])\n",
    "plt.ylim([-0.02,1.02])\n",
    "plt.show()"
   ]
  },
  {
   "cell_type": "markdown",
   "metadata": {},
   "source": [
    "Next, I suggest you open up the Spyder IDE. Let's generate some artificial data to train a logistic regression model with. In the following code, the function `make_blobs` simply generates 100 random artificial data points (as specified by the `n_samples` argument) with `n_features` and each data point belonging to one of 2 different classes (the centers argument). The argument `cluster_std` specifies the spread of the data around each cluster."
   ]
  },
  {
   "cell_type": "code",
   "execution_count": 26,
   "metadata": {},
   "outputs": [],
   "source": [
    "from sklearn.datasets import make_blobs\n",
    "X, y = make_blobs(n_samples=100, n_features=2, centers=2, cluster_std=1.7,random_state=1)#generate dataset consisting of two Gaussian clusters"
   ]
  },
  {
   "cell_type": "markdown",
   "metadata": {},
   "source": [
    "Take a look at how large the data is and what the labels look like:"
   ]
  },
  {
   "cell_type": "code",
   "execution_count": 27,
   "metadata": {},
   "outputs": [
    {
     "name": "stdout",
     "output_type": "stream",
     "text": [
      "X.shape: (100, 2)\n",
      "y:  [0 1 0 0 1 1 1 1 0 0 1 0 1 0 1 1 1 0 0 1 1 1 1 0 0 1 1 0 0 1 0 0 1 0 1 1 0\n",
      " 1 1 1 1 1 0 1 0 1 0 0 0 0 0 1 1 1 0 1 0 1 0 0 0 1 1 1 1 1 0 1 0 0 1 1 1 0\n",
      " 0 0 1 1 0 0 0 1 0 1 0 0 0 0 0 0 1 0 0 0 1 1 1 0 1 0]\n"
     ]
    }
   ],
   "source": [
    "print(\"X.shape:\", X.shape)\n",
    "print(\"y: \", y)"
   ]
  },
  {
   "cell_type": "markdown",
   "metadata": {},
   "source": [
    "Alternatively, you can use the \"Variable explorer\" tab in Spyder to check by yourself how $X$ and $y$ look like. Since the data is two-dimensional (`n_features=2`), we can easily visualize it:"
   ]
  },
  {
   "cell_type": "code",
   "execution_count": 28,
   "metadata": {},
   "outputs": [
    {
     "data": {
      "image/png": "[encoded data removed]",
      "text/plain": [
       "<Figure size 432x288 with 1 Axes>"
      ]
     },
     "metadata": {
      "needs_background": "light"
     },
     "output_type": "display_data"
    }
   ],
   "source": [
    "%matplotlib inline \n",
    "#Remember you don't need to use the previous line if you are working in Spyder\n",
    "import pylab as plt\n",
    "plt.prism()\n",
    "plt.scatter(X[:, 0], X[:, 1], c=y)\n",
    "plt.show()"
   ]
  },
  {
   "cell_type": "markdown",
   "metadata": {},
   "source": [
    "Now we need to import the `LogisticRegression` class in scikit-learn that will allow us to build a logistic regression model."
   ]
  },
  {
   "cell_type": "code",
   "execution_count": 29,
   "metadata": {},
   "outputs": [],
   "source": [
    "from sklearn.linear_model import LogisticRegression\n",
    "logRegModel = LogisticRegression()"
   ]
  },
  {
   "cell_type": "markdown",
   "metadata": {},
   "source": [
    "As usual, we need to split the dataset into a training set and a test set. There are two ways of doing this:\n",
    "\n",
    "- Manually (Careful: error-prone):"
   ]
  },
  {
   "cell_type": "code",
   "execution_count": 33,
   "metadata": {},
   "outputs": [],
   "source": [
    "X_train = X[:50]\n",
    "y_train = y[:50]\n",
    "X_test = X[50:]\n",
    "y_test = y[50:]"
   ]
  },
  {
   "cell_type": "markdown",
   "metadata": {},
   "source": [
    "- Automatically (using scikit-learn `train_test_split` utility function):"
   ]
  },
  {
   "cell_type": "code",
   "execution_count": 34,
   "metadata": {},
   "outputs": [],
   "source": [
    "from sklearn.model_selection import train_test_split\n",
    "X_train, X_test, y_train, y_test = train_test_split(X, y, test_size=0.5)"
   ]
  },
  {
   "cell_type": "markdown",
   "metadata": {},
   "source": [
    "To get an idea of how hard the task is, let us visualize the data again, this time only labeling the training points (filled circles). The test points are plottet as black triangles. You can probably easily determine to which class most of the test points belong to, but if you increase the value of the `cluster_std` parameter in the `make_blobs` function, the problem will become harder to separate and not so obvious."
   ]
  },
  {
   "cell_type": "code",
   "execution_count": 35,
   "metadata": {},
   "outputs": [
    {
     "data": {
      "text/plain": [
       "<matplotlib.collections.PathCollection at 0x2aeb61a3438>"
      ]
     },
     "execution_count": 35,
     "metadata": {},
     "output_type": "execute_result"
    },
    {
     "data": {
      "image/png": "[encoded data removed]",
      "text/plain": [
       "<Figure size 432x288 with 1 Axes>"
      ]
     },
     "metadata": {
      "needs_background": "light"
     },
     "output_type": "display_data"
    }
   ],
   "source": [
    "plt.prism()\n",
    "plt.scatter(X_train[:, 0], X_train[:, 1], c=y_train)\n",
    "plt.scatter(X_test[:, 0], X_test[:, 1], c='black', marker='^')"
   ]
  },
  {
   "cell_type": "markdown",
   "metadata": {},
   "source": [
    "Classifying most of the test points (black triangles) is relatively easy. Just remember that we are working with a simplified data set for illustration purposes only. Real-life data is usually much harder to classify  by a human. Among other reasons, in high dimensional data sets, it is unfeasible for a human to look at the data and identify patterns since we cannot visualize more than 3 dimensions. For those problems (where humans are hopeless at classifying the data), the same computational techniques that we learn here, still provide good performance.\n",
    "\n",
    "Let's fit now the logistic regression model to the training data. Keep in mind that in the next line of code, the `logRegModel` object is going to estimate the optimal values of the parameters $\\theta_0$, $\\theta_1$ and $\\theta_2$ that minimize the cost function $J(\\theta)$ as illustrated  in the lecture. \n",
    "\\begin{align*}& J(\\theta) = \\dfrac{1}{m} \\sum_{i=1}^m \\mathrm{Cost}(h_\\theta(x^{(i)}),y^{(i)}) \\newline & \\mathrm{Cost}(h_\\theta(x),y) = -\\log(h_\\theta(x)) \\; & \\text{if y = 1} \\newline & \\mathrm{Cost}(h_\\theta(x),y) = -\\log(1-h_\\theta(x)) \\; & \\text{if y = 0}\\end{align*}"
   ]
  },
  {
   "cell_type": "code",
   "execution_count": 36,
   "metadata": {},
   "outputs": [
    {
     "data": {
      "text/plain": [
       "LogisticRegression(C=1.0, class_weight=None, dual=False, fit_intercept=True,\n",
       "                   intercept_scaling=1, l1_ratio=None, max_iter=100,\n",
       "                   multi_class='auto', n_jobs=None, penalty='l2',\n",
       "                   random_state=None, solver='lbfgs', tol=0.0001, verbose=0,\n",
       "                   warm_start=False)"
      ]
     },
     "execution_count": 36,
     "metadata": {},
     "output_type": "execute_result"
    }
   ],
   "source": [
    "logRegModel.fit(X_train, y_train)"
   ]
  },
  {
   "cell_type": "markdown",
   "metadata": {},
   "source": [
    "That's it! the optimal parameters $\\theta_0$, $\\theta_1$, and $\\theta_2$, that minimize the cost function  $J(\\theta)$ on the training data $X_{train}$ have been found. You can check $\\theta_0$, $\\theta_1$, and $\\theta_2$ yourself. Recall that $\\theta_0$ is referred to as the intercept but the interpretation of its role in the logistic regression model is slightly different than in linear regression."
   ]
  },
  {
   "cell_type": "code",
   "execution_count": 37,
   "metadata": {},
   "outputs": [
    {
     "name": "stdout",
     "output_type": "stream",
     "text": [
      "[-3.75344089]\n",
      "[[-0.78848687 -0.76741715]]\n"
     ]
    }
   ],
   "source": [
    "print(logRegModel.intercept_) #theta_0\n",
    "print(logRegModel.coef_) #theta_1 and #theta_2"
   ]
  },
  {
   "cell_type": "markdown",
   "metadata": {},
   "source": [
    "Keep in mind that in a 2 dimensional problem, The 2 coefficients $\\theta_1$, and $\\theta_2$ define the decision boundary line that divides the plane in 2 parts (the 2 classes being predicted) with one class lying always on one side of the line and the other class lying on the other side. Remember that in higher dimensional spaces, the boundary will be defined by a Hyperplane instead of a line.\n",
    "\n",
    "Now, we take a look at how logistic regression did on the training set. We do this by setting colors on the training data using the class predicted by the logistic regression model."
   ]
  },
  {
   "cell_type": "code",
   "execution_count": 38,
   "metadata": {},
   "outputs": [
    {
     "data": {
      "image/png": "[encoded data removed]",
      "text/plain": [
       "<Figure size 432x288 with 1 Axes>"
      ]
     },
     "metadata": {},
     "output_type": "display_data"
    }
   ],
   "source": [
    "import numpy as np\n",
    "def plot_decision_boundary(clf, X):\n",
    "    w = clf.coef_.ravel()\n",
    "    a = -w[0] / w[1]\n",
    "    xx = np.linspace(np.min(X[:, 0]), np.max(X[:, 0]))\n",
    "    yy = a * xx - clf.intercept_ / w[1]\n",
    "    plt.plot(xx, yy)\n",
    "    plt.xticks(())\n",
    "    plt.yticks(())\n",
    "y_pred_train = logRegModel.predict(X_train)\n",
    "plt.scatter(X_train[:, 0], X_train[:, 1], c=y_pred_train)\n",
    "plot_decision_boundary(logRegModel, X)"
   ]
  },
  {
   "cell_type": "markdown",
   "metadata": {},
   "source": [
    "That looks pretty good. It is not always that easy to inspect the result visually,\n",
    "so we can also use the logistic regression object to calculate an accuracy score for us, i.e. to quantify how well our model is doing on the training data:"
   ]
  },
  {
   "cell_type": "code",
   "execution_count": 39,
   "metadata": {},
   "outputs": [
    {
     "name": "stdout",
     "output_type": "stream",
     "text": [
      "Accuracy on training set: 1.0\n"
     ]
    }
   ],
   "source": [
    "print(\"Accuracy on training set:\", logRegModel.score(X_train, y_train))"
   ]
  },
  {
   "cell_type": "markdown",
   "metadata": {},
   "source": [
    "1.0 means an accuracy of 100%!\n",
    "\n",
    "The performance of a model on the training data is not a good estimate of the generalization ability of the model (i.e. how the model performs on unseen data). Recall that the model estimated  $\\theta_0$, $\\theta_1$ and $\\theta_2$ using the data contained in $X_{train}$. As a rule of thumb, you should never report the accuracy of a model on the training data. Once again, such number does not indicate the generalization ability of the model, but rather the ability of the model to remember the correct classification of the training data (recall that the training data contains the features $X$ and the targets/labels $y$). A better estimation of the generalization ability of a model is its performance on data it has never seen before. Therefore, let's look at how the logistic regression model performs on the test data, which was not used during the fitting of the model (training)."
   ]
  },
  {
   "cell_type": "code",
   "execution_count": 40,
   "metadata": {},
   "outputs": [
    {
     "name": "stdout",
     "output_type": "stream",
     "text": [
      "Accuracy on test set: 1.0\n"
     ]
    },
    {
     "data": {
      "image/png": "[encoded data removed]",
      "text/plain": [
       "<Figure size 432x288 with 1 Axes>"
      ]
     },
     "metadata": {},
     "output_type": "display_data"
    }
   ],
   "source": [
    "y_pred_test = logRegModel.predict(X_test)\n",
    "plt.scatter(X_test[:, 0], X_test[:, 1], c=y_pred_test, marker='^')\n",
    "#plt.scatter(X_train[:, 0], X_train[:, 1], c=y_pred_train)\n",
    "plot_decision_boundary(logRegModel, X)\n",
    "print(\"Accuracy on test set:\", logRegModel.score(X_test, y_test))"
   ]
  },
  {
   "cell_type": "markdown",
   "metadata": {},
   "source": [
    "Also perfect accuracy! Since this time we were using the test data, now you can be very confident that your estimated logistic regression model will generalize well (i.e. perform well on additional unseen data). Once again, keep in mind that we have been dealing with an extremely simple problem that a human would very easily solve. Higher dimensional data sets are more pathological. Even though this problem was extremely easy, I hope it has served the purpose of illustrating the logistic regression method via visualizations. "
   ]
  },
  {
   "cell_type": "markdown",
   "metadata": {},
   "source": [
    "### Exercise\n",
    "\n",
    "Rerun the previous example by regenerating the artificial data blobs. This time though, make the separation of the data much harder by making the parameter `cluster_std` equals to 8 in the `make_blobs` function. Can you still manually determine the class of every data point? Can logistic regression do it?"
   ]
  },
  {
   "cell_type": "markdown",
   "metadata": {},
   "source": [
    "MNIST DIGITS\n",
    "-------------\n",
    "Let's now move to a much harder (but more realistic too) type of problem, one which is used for instance by mail delivery companies all over the world to automatically recognize ZIP codes in mail letters and route them towards their proper destination.\n",
    "\n",
    "The MNIST (http://yann.lecun.com/exdb/mnist/) data set is a collection of scanned handwritten digits. The original black and white (bilevel) images from MNIST were size normalized to fit in a 28x28 pixel box while preserving their aspect ratio. The resulting images contain grey levels as a result of the anti-aliasing technique used by the normalization algorithm. The images were centered in a 28x28 plane by computing the center of mass of the pixels, and translating the image so as to position this point at the center of the 28x28 plane. The dataset contains a training set of 60,000 examples, and a test set of 10,000 examples. It is a subset of a larger set available from MNIST. It is a good database for people who want to try learning techniques and pattern recognition methods on real-world data while spending minimal efforts on preprocessing and formatting data.\n",
    "\n",
    "![](./mnist.gif)\n",
    "\n",
    "This dataset is a bit more exciting than the previous one since it is much higher dimensional (28 horizontal pixels $\\times$ 28 vertical pixels = 784 dimensions) and not as easy to separate as the previous example. The data is located in the I drive at [I:\\COURSES\\ITP\\BITY3\\IN726-dsmi-data](I:\\COURSES\\ITP\\BITY3\\IN726-dsmi-data). Copy the file `mnist` to the folder where this practical is located and execute the following cell to load it into memory. "
   ]
  },
  {
   "cell_type": "code",
   "execution_count": 2,
   "metadata": {},
   "outputs": [],
   "source": [
    "import numpy as np\n",
    "import scipy.io\n",
    "mat = scipy.io.loadmat(\"./mnist\")\n",
    "X_digits = mat['data'].T\n",
    "y_digits = mat['label'][0].T"
   ]
  },
  {
   "cell_type": "code",
   "execution_count": 3,
   "metadata": {},
   "outputs": [
    {
     "name": "stdout",
     "output_type": "stream",
     "text": [
      "[0. 0. 0. ... 9. 9. 9.]\n"
     ]
    }
   ],
   "source": [
    "print(mat['label'][0])"
   ]
  },
  {
   "cell_type": "markdown",
   "metadata": {},
   "source": [
    "Notice how the dataset looks like:\n",
    "\n",
    "- There are 70,000 examples (data points) \n",
    "\n",
    "- Thus, $X$ has 70,000 rows, \n",
    "\n",
    "- Each data  point (example) is an (image representing a number) \n",
    "\n",
    "- Each image contains 784 pixels (dimensions) \n",
    "\n",
    "- Each image is a single row in $X$ as a result of flattening the 2D images of 28x28 pixels into a 1D vector with 784 elements \n",
    "\n",
    "![](./flatten.png)\n",
    "\n",
    "![](./flatten2.png)\n",
    "\n",
    "\n",
    "- There are 10 classes of data, digits from 0 to 9. Therefore, the target vector $y$ can have a value between 0 and 9 representing the number contained in the corresponding row in $X$\n",
    "\n",
    "Explore the data structure contained in the `mnist` object using Spyder's `Variable explorer` tab and make sure you become familiar with it. "
   ]
  },
  {
   "cell_type": "code",
   "execution_count": 4,
   "metadata": {},
   "outputs": [
    {
     "name": "stdout",
     "output_type": "stream",
     "text": [
      "X_digits.shape: (70000, 784)\n",
      "Unique entries of y_digits: [0. 1. 2. 3. 4. 5. 6. 7. 8. 9.]\n"
     ]
    }
   ],
   "source": [
    "print(\"X_digits.shape:\", X_digits.shape) #The dimensions of X\n",
    "print(\"Unique entries of y_digits:\", np.unique(y_digits)) #The classes in y"
   ]
  },
  {
   "cell_type": "markdown",
   "metadata": {},
   "source": [
    "Let's visualize the 1st row of the data matrix $X$:"
   ]
  },
  {
   "cell_type": "code",
   "execution_count": 5,
   "metadata": {},
   "outputs": [
    {
     "name": "stdout",
     "output_type": "stream",
     "text": [
      "Class of first element in our data set:  0.0\n",
      "Data shape of first row of X:  (784,)\n",
      "First row of X: [0, 0, 0, 0, 0, 0, 0, 0, 0, 0, 0, 0, 0, 0, 0, 0, 0, 0, 0, 0, 0, 0, 0, 0, 0, 0, 0, 0, 0, 0, 0, 0, 0, 0, 0, 0, 0, 0, 0, 0, 0, 0, 0, 0, 0, 0, 0, 0, 0, 0, 0, 0, 0, 0, 0, 0, 0, 0, 0, 0, 0, 0, 0, 0, 0, 0, 0, 0, 0, 0, 0, 0, 0, 0, 0, 0, 0, 0, 0, 0, 0, 0, 0, 0, 0, 0, 0, 0, 0, 0, 0, 0, 0, 0, 0, 0, 0, 0, 0, 0, 0, 0, 0, 0, 0, 0, 0, 0, 0, 0, 0, 0, 0, 0, 0, 0, 0, 0, 0, 0, 0, 0, 0, 0, 0, 0, 0, 51, 159, 253, 159, 50, 0, 0, 0, 0, 0, 0, 0, 0, 0, 0, 0, 0, 0, 0, 0, 0, 0, 0, 0, 0, 0, 0, 48, 238, 252, 252, 252, 237, 0, 0, 0, 0, 0, 0, 0, 0, 0, 0, 0, 0, 0, 0, 0, 0, 0, 0, 0, 0, 0, 54, 227, 253, 252, 239, 233, 252, 57, 6, 0, 0, 0, 0, 0, 0, 0, 0, 0, 0, 0, 0, 0, 0, 0, 0, 0, 10, 60, 224, 252, 253, 252, 202, 84, 252, 253, 122, 0, 0, 0, 0, 0, 0, 0, 0, 0, 0, 0, 0, 0, 0, 0, 0, 0, 163, 252, 252, 252, 253, 252, 252, 96, 189, 253, 167, 0, 0, 0, 0, 0, 0, 0, 0, 0, 0, 0, 0, 0, 0, 0, 0, 51, 238, 253, 253, 190, 114, 253, 228, 47, 79, 255, 168, 0, 0, 0, 0, 0, 0, 0, 0, 0, 0, 0, 0, 0, 0, 0, 48, 238, 252, 252, 179, 12, 75, 121, 21, 0, 0, 253, 243, 50, 0, 0, 0, 0, 0, 0, 0, 0, 0, 0, 0, 0, 0, 38, 165, 253, 233, 208, 84, 0, 0, 0, 0, 0, 0, 253, 252, 165, 0, 0, 0, 0, 0, 0, 0, 0, 0, 0, 0, 0, 7, 178, 252, 240, 71, 19, 28, 0, 0, 0, 0, 0, 0, 253, 252, 195, 0, 0, 0, 0, 0, 0, 0, 0, 0, 0, 0, 0, 57, 252, 252, 63, 0, 0, 0, 0, 0, 0, 0, 0, 0, 253, 252, 195, 0, 0, 0, 0, 0, 0, 0, 0, 0, 0, 0, 0, 198, 253, 190, 0, 0, 0, 0, 0, 0, 0, 0, 0, 0, 255, 253, 196, 0, 0, 0, 0, 0, 0, 0, 0, 0, 0, 0, 76, 246, 252, 112, 0, 0, 0, 0, 0, 0, 0, 0, 0, 0, 253, 252, 148, 0, 0, 0, 0, 0, 0, 0, 0, 0, 0, 0, 85, 252, 230, 25, 0, 0, 0, 0, 0, 0, 0, 0, 7, 135, 253, 186, 12, 0, 0, 0, 0, 0, 0, 0, 0, 0, 0, 0, 85, 252, 223, 0, 0, 0, 0, 0, 0, 0, 0, 7, 131, 252, 225, 71, 0, 0, 0, 0, 0, 0, 0, 0, 0, 0, 0, 0, 85, 252, 145, 0, 0, 0, 0, 0, 0, 0, 48, 165, 252, 173, 0, 0, 0, 0, 0, 0, 0, 0, 0, 0, 0, 0, 0, 0, 86, 253, 225, 0, 0, 0, 0, 0, 0, 114, 238, 253, 162, 0, 0, 0, 0, 0, 0, 0, 0, 0, 0, 0, 0, 0, 0, 0, 85, 252, 249, 146, 48, 29, 85, 178, 225, 253, 223, 167, 56, 0, 0, 0, 0, 0, 0, 0, 0, 0, 0, 0, 0, 0, 0, 0, 85, 252, 252, 252, 229, 215, 252, 252, 252, 196, 130, 0, 0, 0, 0, 0, 0, 0, 0, 0, 0, 0, 0, 0, 0, 0, 0, 0, 28, 199, 252, 252, 253, 252, 252, 233, 145, 0, 0, 0, 0, 0, 0, 0, 0, 0, 0, 0, 0, 0, 0, 0, 0, 0, 0, 0, 0, 25, 128, 252, 253, 252, 141, 37, 0, 0, 0, 0, 0, 0, 0, 0, 0, 0, 0, 0, 0, 0, 0, 0, 0, 0, 0, 0, 0, 0, 0, 0, 0, 0, 0, 0, 0, 0, 0, 0, 0, 0, 0, 0, 0, 0, 0, 0, 0, 0, 0, 0, 0, 0, 0, 0, 0, 0, 0, 0, 0, 0, 0, 0, 0, 0, 0, 0, 0, 0, 0, 0, 0, 0, 0, 0, 0, 0, 0, 0, 0, 0, 0, 0, 0, 0, 0, 0, 0, 0, 0, 0, 0, 0, 0, 0, 0, 0, 0, 0, 0, 0, 0, 0, 0, 0, 0, 0, 0, 0, 0, 0, 0, 0, 0, 0, 0, 0, 0, 0, 0, 0, 0, 0, 0, 0, 0, 0, 0, 0, 0, 0, 0, 0]\n",
      "Transforming the first row of X into a 2 dimensional representation:\n"
     ]
    },
    {
     "data": {
      "image/png": "[encoded data removed]",
      "text/plain": [
       "<Figure size 288x288 with 1 Axes>"
      ]
     },
     "metadata": {
      "needs_background": "light"
     },
     "output_type": "display_data"
    }
   ],
   "source": [
    "import pylab as plt\n",
    "print(\"Class of first element in our data set: \", y_digits[0])\n",
    "plt.rc(\"image\", cmap=\"binary\")\n",
    "#print(\"Data contained in first row of X:\", X_digits[0])\n",
    "print(\"Data shape of first row of X: \", X_digits[0].shape)\n",
    "print(\"First row of X: \" +str(list(X_digits[0])))\n",
    "print(\"Transforming the first row of X into a 2 dimensional representation:\")\n",
    "plt.matshow(X_digits[0].reshape(28, 28)) # we reshape the 784 elements row into a 28x28 matrix\n",
    "ax = plt.gca()\n",
    "ax.grid(False)"
   ]
  },
  {
   "cell_type": "markdown",
   "metadata": {},
   "source": [
    "We could try to learn all ten classes of digits using logistic regression, but let's keep it simple and try to discriminate just two classes for the moment. We will use the classes 0 and 1, corresponding to the digits 0 and 1 respectively. To create a dataset only consisting of the classes 0 and 1, we need a new numpy trick. We can not only slice our data using ranges, like ``X[5:10]``, we can also select elements using conditions, like so:"
   ]
  },
  {
   "cell_type": "code",
   "execution_count": 6,
   "metadata": {},
   "outputs": [
    {
     "name": "stdout",
     "output_type": "stream",
     "text": [
      "zeros.shape:  (6903, 784)\n",
      "ones.shape:  (7877, 784)\n"
     ]
    }
   ],
   "source": [
    "zeros = X_digits[y_digits==0]  # select all the rows of X where y (target value) is zero (i.e. the zero digits)\n",
    "ones = X_digits[y_digits==1]   # select all the rows of X where y is one (i.e. the one digits)\n",
    "print(\"zeros.shape: \", zeros.shape) # print the number of instances of class 0\n",
    "print(\"ones.shape: \", ones.shape) # print the number of instances of class 1"
   ]
  },
  {
   "cell_type": "code",
   "execution_count": 7,
   "metadata": {},
   "outputs": [
    {
     "data": {
      "text/plain": [
       "array([0., 0., 0., ..., 9., 9., 9.])"
      ]
     },
     "execution_count": 7,
     "metadata": {},
     "output_type": "execute_result"
    }
   ],
   "source": [
    "y_digits"
   ]
  },
  {
   "cell_type": "markdown",
   "metadata": {},
   "source": [
    "So we have, 6903 images of the number 0 and 7877 images of the number 1. Lets have a quick look to make sure we did it right."
   ]
  },
  {
   "cell_type": "code",
   "execution_count": 8,
   "metadata": {},
   "outputs": [
    {
     "data": {
      "image/png": "[encoded data removed]",
      "text/plain": [
       "<Figure size 288x288 with 1 Axes>"
      ]
     },
     "metadata": {
      "needs_background": "light"
     },
     "output_type": "display_data"
    },
    {
     "data": {
      "image/png": "[encoded data removed]",
      "text/plain": [
       "<Figure size 288x288 with 1 Axes>"
      ]
     },
     "metadata": {
      "needs_background": "light"
     },
     "output_type": "display_data"
    }
   ],
   "source": [
    "plt.rc(\"image\", cmap=\"binary\")\n",
    "plt.matshow(zeros[0].reshape(28, 28)) \n",
    "ax = plt.gca()\n",
    "ax.grid(False)\n",
    "plt.matshow(ones[0].reshape(28, 28)) \n",
    "ax = plt.gca()\n",
    "ax.grid(False)"
   ]
  },
  {
   "cell_type": "markdown",
   "metadata": {},
   "source": [
    "You can try to modify the index of the `zeros` and `ones` array to print other instances of each class. "
   ]
  },
  {
   "cell_type": "markdown",
   "metadata": {},
   "source": [
    "### Rearranging the data"
   ]
  },
  {
   "cell_type": "markdown",
   "metadata": {},
   "source": [
    "Now, let's generate some new data set. For the training labels $y_{train}$, we write as many 0's as the ``zeros`` array is long, the same for ``ones``."
   ]
  },
  {
   "cell_type": "code",
   "execution_count": 9,
   "metadata": {},
   "outputs": [
    {
     "name": "stdout",
     "output_type": "stream",
     "text": [
      "X_new.shape:  (14780, 784)\n",
      "y_new.shape:  (14780,)\n",
      "y_new:  [0 0 0 ... 1 1 1]\n"
     ]
    }
   ],
   "source": [
    "X_new = np.vstack([zeros, ones])  # this \"stacks\" zeros and ones vertically\n",
    "print(\"X_new.shape: \", X_new.shape)\n",
    "y_new = np.hstack([np.repeat(0, zeros.shape[0]), np.repeat(1, ones.shape[0])])\n",
    "print(\"y_new.shape: \", y_new.shape)\n",
    "print(\"y_new: \", y_new)"
   ]
  },
  {
   "cell_type": "markdown",
   "metadata": {},
   "source": [
    "Now we shuffle them around and create a training and test dataset."
   ]
  },
  {
   "cell_type": "code",
   "execution_count": 10,
   "metadata": {},
   "outputs": [],
   "source": [
    "from sklearn.utils import shuffle\n",
    "X_new, y_new = shuffle(X_new, y_new)\n",
    "X_mnist_train = X_new[:5000]\n",
    "y_mnist_train = y_new[:5000]\n",
    "X_mnist_test = X_new[5000:]\n",
    "y_mnist_test = y_new[5000:]"
   ]
  },
  {
   "cell_type": "markdown",
   "metadata": {},
   "source": [
    "Finally, let us learn a logistic regression model."
   ]
  },
  {
   "cell_type": "code",
   "execution_count": 11,
   "metadata": {},
   "outputs": [
    {
     "data": {
      "text/plain": [
       "LogisticRegression()"
      ]
     },
     "execution_count": 11,
     "metadata": {},
     "output_type": "execute_result"
    }
   ],
   "source": [
    "from sklearn.linear_model import LogisticRegression\n",
    "logRegModel = LogisticRegression(solver='lbfgs')\n",
    "logRegModel.fit(X_mnist_train, y_mnist_train)"
   ]
  },
  {
   "cell_type": "markdown",
   "metadata": {},
   "source": [
    "Let's try to visualize the coefficients of the fitted model. Notice that now we are dealing with a model with $\\Large 785$ $\\theta_n$ parameters: $28 \\times 28$ pixels + $\\theta_0$. In order to visualize $\\theta_1, \\theta_2, ... \\theta_{784}$ we will plot those coefficients in a two-dimensional matrix of dimensions 28 x 28. Sort of like the images of the digits. We can see that the middle of that matrix, (i.e. the coefficients around $\\theta_{392}$) are quite dark, corresponding to  high positive values for images representing the digit 1. Around it is a lighter circle, corresponding to the more noisy position of the 0 instances."
   ]
  },
  {
   "cell_type": "code",
   "execution_count": 12,
   "metadata": {},
   "outputs": [
    {
     "data": {
      "image/png": "[encoded data removed]",
      "text/plain": [
       "<Figure size 288x288 with 2 Axes>"
      ]
     },
     "metadata": {
      "needs_background": "light"
     },
     "output_type": "display_data"
    }
   ],
   "source": [
    "plt.matshow(logRegModel.coef_.reshape(28, 28))\n",
    "plt.colorbar()\n",
    "ax = plt.gca()\n",
    "ax.grid(False)"
   ]
  },
  {
   "cell_type": "markdown",
   "metadata": {},
   "source": [
    "Finally, Let's estimate the accuracy of the model we have just computed on the training and the test sets. Recall that the only relevant number here is the accuracy of the `logRegModel` on the test set, which estimates the generalization ability of the `logRegModel` model. That is, how well is `logRegModel` likely to perform in unseen data (i.e. new digit images that the model never saw during training). "
   ]
  },
  {
   "cell_type": "code",
   "execution_count": 13,
   "metadata": {},
   "outputs": [
    {
     "name": "stdout",
     "output_type": "stream",
     "text": [
      "Accuracy training set: 1.0\n",
      "Accuracy test set: 0.9987730061349693\n"
     ]
    }
   ],
   "source": [
    "print(\"Accuracy training set:\", logRegModel.score(X_mnist_train, y_mnist_train))\n",
    "print(\"Accuracy test set:\", logRegModel.score(X_mnist_test, y_mnist_test))"
   ]
  },
  {
   "cell_type": "markdown",
   "metadata": {},
   "source": [
    "Congratulations! you have created an image recognition system that is able to automatically separate hand-written digits (1's and 0's) with a generalization accuracy of 99.8%.\n",
    "\n",
    "Try to separate some other digit classes from MNIST. Which ones are hard, which ones are easy? Can you guess the reason why?"
   ]
  },
  {
   "cell_type": "markdown",
   "metadata": {},
   "source": [
    "Exercise\n",
    "=================================\n",
    "\n",
    "The provided file `glass.csv` contains predictors about Refractive index and chemical components: (Sodium (na), Magnesium (mg), \n",
    "Aluminum (al), Silicon (si), Potassium (k), Calcium(ca), Barium (ba) and Iron (fe) of 2 types of glasses:\n",
    "- 0: industrial glass used for instance for building windows \n",
    "- 1: household glass found inside houses such as for instance containers, tableware or headlamps\n",
    "\n",
    "Your task is to create a logistic regression model that is able to predict the type of glass (household class or industrial glass) using the available predictors. I suggest the following workflow:\n",
    "\n",
    "1. Load the data from the `glass.csv` using pandas `read_csv` function\n",
    "2. Place the predictors ('ri','na','mg','al','si','k','ca','ba','fe') in a feature matrix variable $X$ (exclude the index, 'id', column)\n",
    "3. Place the class labels/targets (named 'household' in `glass.csv`) in a vector $y$\n",
    "4. Shuffle the data since the data in the `glass.csv` file is ordered by class\n",
    "5. Split the data into a 75% training set and a 25% test set\n",
    "6. Fit a logistic regression model to the training set\n",
    "7. Estimate the classification accuracy of your fitted model using the test set"
   ]
  },
  {
   "cell_type": "code",
   "execution_count": 27,
   "metadata": {},
   "outputs": [
    {
     "name": "stdout",
     "output_type": "stream",
     "text": [
      "[[ 1.52101 13.64     4.49    ...  8.75     0.       0.     ]\n",
      " [ 1.51761 13.89     3.6     ...  7.83     0.       0.     ]\n",
      " [ 1.51618 13.53     3.55    ...  7.78     0.       0.     ]\n",
      " ...\n",
      " [ 1.52065 14.36     0.      ...  8.44     1.64     0.     ]\n",
      " [ 1.51651 14.38     0.      ...  8.48     1.57     0.     ]\n",
      " [ 1.51711 14.23     0.      ...  8.62     1.67     0.     ]]\n",
      "[0 0 0 0 0 0 0 0 0 0 0 0 0 0 0 0 0 0 0 0 0 0 0 0 0 0 0 0 0 0 0 0 0 0 0 0 0\n",
      " 0 0 0 0 0 0 0 0 0 0 0 0 0 0 0 0 0 0 0 0 0 0 0 0 0 0 0 0 0 0 0 0 0 0 0 0 0\n",
      " 0 0 0 0 0 0 0 0 0 0 0 0 0 0 0 0 0 0 0 0 0 0 0 0 0 0 0 0 0 0 0 0 0 0 0 0 0\n",
      " 0 0 0 0 0 0 0 0 0 0 0 0 0 0 0 0 0 0 0 0 0 0 0 0 0 0 0 0 0 0 0 0 0 0 0 0 0\n",
      " 0 0 0 0 0 0 0 0 0 0 0 0 0 0 0 1 1 1 1 1 1 1 1 1 1 1 1 1 1 1 1 1 1 1 1 1 1\n",
      " 1 1 1 1 1 1 1 1 1 1 1 1 1 1 1 1 1 1 1 1 1 1 1 1 1 1 1 1 1]\n"
     ]
    },
    {
     "ename": "TypeError",
     "evalue": "cannot unpack non-iterable function object",
     "output_type": "error",
     "traceback": [
      "\u001b[1;31m---------------------------------------------------------------------------\u001b[0m",
      "\u001b[1;31mTypeError\u001b[0m                                 Traceback (most recent call last)",
      "\u001b[1;32m<ipython-input-27-6bda47ca078f>\u001b[0m in \u001b[0;36m<module>\u001b[1;34m\u001b[0m\n\u001b[0;32m     12\u001b[0m \u001b[0mprint\u001b[0m\u001b[1;33m(\u001b[0m\u001b[0my\u001b[0m\u001b[1;33m)\u001b[0m\u001b[1;33m\u001b[0m\u001b[1;33m\u001b[0m\u001b[0m\n\u001b[0;32m     13\u001b[0m \u001b[1;33m\u001b[0m\u001b[0m\n\u001b[1;32m---> 14\u001b[1;33m \u001b[0mX\u001b[0m\u001b[1;33m,\u001b[0m \u001b[0my\u001b[0m \u001b[1;33m=\u001b[0m \u001b[0mshuffle\u001b[0m\u001b[1;33m\u001b[0m\u001b[1;33m\u001b[0m\u001b[0m\n\u001b[0m",
      "\u001b[1;31mTypeError\u001b[0m: cannot unpack non-iterable function object"
     ]
    }
   ],
   "source": [
    "import pandas as pd\n",
    "from sklearn.utils import shuffle\n",
    "from sklearn.model_selection import train_test_split\n",
    "data = pd.read_csv(\"./glass.csv\", index_col=\"id\")\n",
    "\n",
    "y = data.household.values\n",
    "\n",
    "data = data.drop(columns=['household'])\n",
    "X = data.values\n",
    "\n",
    "print(X)\n",
    "print(y)\n",
    "\n",
    "X, y = shuffle()"
   ]
  },
  {
   "cell_type": "code",
   "execution_count": null,
   "metadata": {},
   "outputs": [],
   "source": []
  },
  {
   "cell_type": "code",
   "execution_count": null,
   "metadata": {},
   "outputs": [],
   "source": []
  }
 ],
 "metadata": {
  "anaconda-cloud": {},
  "kernelspec": {
   "display_name": "Python 3",
   "language": "python",
   "name": "python3"
  },
  "language_info": {
   "codemirror_mode": {
    "name": "ipython",
    "version": 3
   },
   "file_extension": ".py",
   "mimetype": "text/x-python",
   "name": "python",
   "nbconvert_exporter": "python",
   "pygments_lexer": "ipython3",
   "version": "3.8.5"
  }
 },
 "nbformat": 4,
 "nbformat_minor": 4
}
